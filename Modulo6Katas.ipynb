{
 "cells": [
  {
   "cell_type": "markdown",
   "metadata": {},
   "source": [
    "### Almacen de nombres de planetas"
   ]
  },
  {
   "cell_type": "code",
   "execution_count": null,
   "metadata": {},
   "outputs": [],
   "source": [
    "planets = ['Mercurio','Venus','Tierra','Marte','Jupiter','Saturno','Urano','Neptuno']\n",
    "print (len(planets))\n",
    "planets.append('Pluton')\n",
    "print(planets[-1])"
   ]
  },
  {
   "cell_type": "markdown",
   "metadata": {},
   "source": [
    "### Trabajando con datos de una lista"
   ]
  },
  {
   "cell_type": "code",
   "execution_count": 16,
   "metadata": {},
   "outputs": [
    {
     "name": "stdout",
     "output_type": "stream",
     "text": [
      "este es el planeta mas cercano al sol Jupiter\n",
      "['Mercurio', 'Venus', 'Tierra', 'Marte']\n",
      "Este es el planeta mas lejano al Sol Jupiter\n",
      "['Saturno', 'Urano', 'Neptuno']\n"
     ]
    }
   ],
   "source": [
    "planets = ['Mercurio','Venus','Tierra','Marte','Jupiter','Saturno','Urano','Neptuno']\n",
    "\n",
    "name    = input ('Ingresa el nombre del planeta, ejemplo: Jupiter')\n",
    "askname = planets.index(name)\n",
    "\n",
    "print('este es el planeta mas cercano al sol ' + name)\n",
    "print(planets[0:askname])\n",
    "\n",
    "print('Este es el planeta mas lejano al Sol ' + name)\n",
    "print(planets[askname + 1:])"
   ]
  }
 ],
 "metadata": {
  "interpreter": {
   "hash": "954a5037d0e4bda69572c5a335e7dac8055dff5daa37a9f203a63b04e48b1ff0"
  },
  "kernelspec": {
   "display_name": "Python 3.10.2 64-bit",
   "language": "python",
   "name": "python3"
  },
  "language_info": {
   "codemirror_mode": {
    "name": "ipython",
    "version": 3
   },
   "file_extension": ".py",
   "mimetype": "text/x-python",
   "name": "python",
   "nbconvert_exporter": "python",
   "pygments_lexer": "ipython3",
   "version": "3.10.2"
  },
  "orig_nbformat": 4
 },
 "nbformat": 4,
 "nbformat_minor": 2
}
