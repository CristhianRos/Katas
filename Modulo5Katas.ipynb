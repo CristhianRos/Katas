{
 "cells": [
  {
   "cell_type": "markdown",
   "metadata": {},
   "source": [
    "# Distancia entre dos puntos"
   ]
  },
  {
   "cell_type": "code",
   "execution_count": null,
   "metadata": {},
   "outputs": [],
   "source": [
    "import math\n",
    "\n",
    "tierra   = 149597870\n",
    "jupiter  = 778547200\n",
    "\n",
    "tierra2  = math.pow(tierra, 2)\n",
    "jupiter2 = math.pow(jupiter, 2)\n",
    "sumat    = tierra2 + jupiter2\n",
    "result   = math.sqrt(sumat)\n",
    "result1  = result * 0.621\n",
    "\n",
    "print(\"la distiancia entre la Tierra y Jupiter es: \", result1, \"millas\" )"
   ]
  },
  {
   "cell_type": "markdown",
   "metadata": {},
   "source": [
    "#### Cadenas en numeros y valores absolutos"
   ]
  },
  {
   "cell_type": "code",
   "execution_count": null,
   "metadata": {},
   "outputs": [],
   "source": [
    "pl1 = input('Ingresa la distancia del sol al planeta en km')\n",
    "pl2 = input('Ingresa la distancia del sol al planeta en km')\n",
    "pl1 = int(pl1)\n",
    "pl2 = int(pl2)\n",
    "distancia  = pl1 - pl2\n",
    "print (distancia)\n",
    "\n",
    "distancia1 = distancia * 0.621\n",
    "print(abs(distancia1))"
   ]
  }
 ],
 "metadata": {
  "interpreter": {
   "hash": "954a5037d0e4bda69572c5a335e7dac8055dff5daa37a9f203a63b04e48b1ff0"
  },
  "kernelspec": {
   "display_name": "Python 3.10.2 64-bit",
   "language": "python",
   "name": "python3"
  },
  "language_info": {
   "codemirror_mode": {
    "name": "ipython",
    "version": 3
   },
   "file_extension": ".py",
   "mimetype": "text/x-python",
   "name": "python",
   "nbconvert_exporter": "python",
   "pygments_lexer": "ipython3",
   "version": "3.10.2"
  },
  "orig_nbformat": 4
 },
 "nbformat": 4,
 "nbformat_minor": 2
}
