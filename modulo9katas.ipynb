{
 "cells": [
  {
   "cell_type": "markdown",
   "metadata": {},
   "source": [
    "# Ejercicio: Uso de funciones en Python"
   ]
  },
  {
   "cell_type": "code",
   "execution_count": 11,
   "metadata": {},
   "outputs": [],
   "source": [
    "\n",
    "\n",
    "def generate_report(main_tank, external_tank, hydrogen_tank):\n",
    "    total_average = (main_tank + external_tank + hydrogen_tank) / 3\n",
    "    return f\"\"\"Fuel Report:\n",
    "    Total Average: {total_average}%\n",
    "    Main tank: {main_tank}%\n",
    "    External tank: {external_tank}%\n",
    "    Hydrogen tank: {hydrogen_tank}% \n",
    "    \"\"\""
   ]
  },
  {
   "cell_type": "markdown",
   "metadata": {},
   "source": [
    "#### Ejercicio 2: Trabajo con argumentos de palabra clave\n"
   ]
  },
  {
   "cell_type": "code",
   "execution_count": 12,
   "metadata": {},
   "outputs": [
    {
     "data": {
      "text/plain": [
       "'\\n    Mision a: Jupiter\\n    Tiempo total de viaje: 70 minutos\\n    Combustibe total: 500000 \\n    '"
      ]
     },
     "execution_count": 12,
     "metadata": {},
     "output_type": "execute_result"
    }
   ],
   "source": [
    "def informe_mision(destino,prelazamiento,tiempo,tanque_e,tanque_i):\n",
    "    return f\"\"\"\n",
    "    Mision a: {destino}\n",
    "    Tiempo total de viaje: {prelazamiento+tiempo} minutos\n",
    "    Combustibe total: {tanque_e+tanque_i} \n",
    "    \"\"\"\n",
    "\n",
    "informe_mision('Jupiter', 10, 60, 300000, 200000)"
   ]
  },
  {
   "cell_type": "code",
   "execution_count": 14,
   "metadata": {},
   "outputs": [
    {
     "data": {
      "text/plain": [
       "'\\n    Mision a: Jupiter\\n    Tiempo total de viaje: 90 minutos\\n    Combustibe total: 500000 \\n    '"
      ]
     },
     "execution_count": 14,
     "metadata": {},
     "output_type": "execute_result"
    }
   ],
   "source": [
    "def informe_mision(destino, *minutos, **tanque_reservas):\n",
    "    return f\"\"\"\n",
    "    Mision a: {destino}\n",
    "    Tiempo total de viaje: {sum(minutos)} minutos\n",
    "    Combustibe total: {sum(tanque_reservas.values())} \n",
    "    \"\"\"\n",
    "\n",
    "informe_mision('Jupiter', 10, 60, 20, main=300000, external=200000)"
   ]
  },
  {
   "cell_type": "code",
   "execution_count": 15,
   "metadata": {},
   "outputs": [
    {
     "data": {
      "text/plain": [
       "'\\n    Mision a: Jupiter\\n    Tiempo total de viaje: 90 minutos\\n    Combustibe total: 500000 \\n    main tanque --> 300000 galones internos\\nexternal tanque --> 200000 galones internos\\n'"
      ]
     },
     "execution_count": 15,
     "metadata": {},
     "output_type": "execute_result"
    }
   ],
   "source": [
    "def informe_mision(destino, *minutos, **tanque_reservas):\n",
    "    reporte= f\"\"\"\n",
    "    Mision a: {destino}\n",
    "    Tiempo total de viaje: {sum(minutos)} minutos\n",
    "    Combustibe total: {sum(tanque_reservas.values())} \n",
    "    \"\"\"\n",
    "    for tanque, galones in tanque_reservas.items():\n",
    "        reporte += f\"{tanque} tanque --> {galones} galones internos\\n\"\n",
    "    return reporte\n",
    "\n",
    "informe_mision('Jupiter', 10, 60, 20, main=300000, external=200000)"
   ]
  }
 ],
 "metadata": {
  "interpreter": {
   "hash": "9435b969d99affd82a76e4d456590c42cf62dd3e4e457330ee0d6b23bebb2812"
  },
  "kernelspec": {
   "display_name": "Python 3.9.10 64-bit (windows store)",
   "language": "python",
   "name": "python3"
  },
  "language_info": {
   "codemirror_mode": {
    "name": "ipython",
    "version": 3
   },
   "file_extension": ".py",
   "mimetype": "text/x-python",
   "name": "python",
   "nbconvert_exporter": "python",
   "pygments_lexer": "ipython3",
   "version": "3.10.2"
  },
  "orig_nbformat": 4
 },
 "nbformat": 4,
 "nbformat_minor": 2
}
