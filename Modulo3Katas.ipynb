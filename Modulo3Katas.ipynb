{
 "cells": [
  {
   "cell_type": "markdown",
   "metadata": {},
   "source": [
    "##### Añadir el código necesario para crear una variable que guarde la velocidad del asteroide.\n",
    "##### Escribe una expresión de prueba para calcular si necesita una advertencia.\n",
    "##### Agregue las instrucciones que se ejecutarán si la expresión de prueba es true o false."
   ]
  },
  {
   "cell_type": "code",
   "execution_count": null,
   "metadata": {},
   "outputs": [],
   "source": [
    "velocidadAsteroide = 49\n",
    "limiteVelocidad    = 25\n",
    "\n",
    "if velocidadAsteroide >= limiteVelocidad:\n",
    "    print (\"¡Advertencia, Velocidad estandar superada!\")\n",
    "else:\n",
    "    print(\"Asteroide, controlado\")\n"
   ]
  },
  {
   "cell_type": "markdown",
   "metadata": {},
   "source": [
    "##### Agrega el código para crear una variable para un asteroide que viaja a 19 km/s\n",
    "##### Escribe varias expresiones de prueba para determinar si puedes ver el rayo de luz desde la tierra\n",
    "##### Agrega las instrucciones que se ejecutarán si las expresiones de prueba son True o False"
   ]
  },
  {
   "cell_type": "code",
   "execution_count": 6,
   "metadata": {},
   "outputs": [
    {
     "name": "stdout",
     "output_type": "stream",
     "text": [
      "Que lamentable, ¡Vamonos!\n"
     ]
    }
   ],
   "source": [
    "velocidadAsteroide = 19\n",
    "\n",
    "if velocidadAsteroide > 20:\n",
    "    print(\"¡Wow, pudimos ver la luz!\")\n",
    "elif velocidadAsteroide == 20:\n",
    "    print(\"¡Eso estuvo genial, que buena alerta!\")\n",
    "else:\n",
    "    print(\"Que lamentable, ¡Vamonos!\")"
   ]
  },
  {
   "cell_type": "markdown",
   "metadata": {},
   "source": [
    "##### Agrega el código para crear nuevas variables para la velocidad y el tamaño del asteroide\n",
    "##### Para probar el código, prueba con varias velocidades y tamaños\n",
    "##### Escribe varias expresiones de prueba o combinaciones de expresiones de prueba para determinar qué mensaje se debe enviar a Tierra.\n"
   ]
  },
  {
   "cell_type": "code",
   "execution_count": 28,
   "metadata": {},
   "outputs": [
    {
     "name": "stdout",
     "output_type": "stream",
     "text": [
      "fin del mundo\n"
     ]
    }
   ],
   "source": [
    "tRiesgo    = 25\n",
    "velocidadA = 19\n",
    "tAsteroides = 1001\n",
    "\n",
    "if tAsteroides >= tRiesgo and tAsteroides < 1000 and velocidadA > tRiesgo:\n",
    "    print(\"Advertencia, catastrofe inminente\")\n",
    "elif velocidadA >= 20:\n",
    "    print(\"Noticia, se ve un rayo de luz en el cielo\")\n",
    "elif tAsteroides < tRiesgo:\n",
    "    print(\"nada nuevo\")\n",
    "else:\n",
    "    print(\"fin del mundo\")"
   ]
  }
 ],
 "metadata": {
  "interpreter": {
   "hash": "954a5037d0e4bda69572c5a335e7dac8055dff5daa37a9f203a63b04e48b1ff0"
  },
  "kernelspec": {
   "display_name": "Python 3.10.2 64-bit",
   "language": "python",
   "name": "python3"
  },
  "language_info": {
   "codemirror_mode": {
    "name": "ipython",
    "version": 3
   },
   "file_extension": ".py",
   "mimetype": "text/x-python",
   "name": "python",
   "nbconvert_exporter": "python",
   "pygments_lexer": "ipython3",
   "version": "3.10.2"
  },
  "orig_nbformat": 4
 },
 "nbformat": 4,
 "nbformat_minor": 2
}
